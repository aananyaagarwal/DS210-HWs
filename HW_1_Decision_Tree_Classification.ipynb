{
 "cells": [
  {
   "cell_type": "markdown",
   "id": "8352fd83",
   "metadata": {},
   "source": [
    "# HW 1 - Ananya Agarwal DS210"
   ]
  },
  {
   "cell_type": "markdown",
   "id": "ec32d337",
   "metadata": {},
   "source": [
    "# Q1 "
   ]
  },
  {
   "cell_type": "markdown",
   "id": "f4635102",
   "metadata": {},
   "source": [
    "# Title\n",
    "\n",
    "### Section 1: Different fonts \n",
    "\n",
    "Regular. **Bold**. *Italic*\n",
    "\n",
    "### Section 2: Enumeration \n",
    "\n",
    "- First Bullet \n",
    "- Second Bullet \n",
    "  1. A\n",
    "  2. B \n",
    "- Third Bullet\n",
    "  - Sub-bullet \n",
    "  - Sub-bullet \n",
    "  \n",
    "### Section 3: Code \n",
    "\n",
    "This is inline code: `[x*x for x in X]`, and this is a block code (note the syntax highlighting!): \n",
    "\n",
    "<span style=\"color:blue\">*\\# comment*</span>      \n",
    "```python  \n",
    "def foo(x,y,z) :\n",
    "  return x + 10 * y + 100 * z\n",
    "```\n"
   ]
  },
  {
   "cell_type": "code",
   "execution_count": 3,
   "id": "d7f314ed",
   "metadata": {},
   "outputs": [],
   "source": [
    "# for the above markdown format I used syntax as explained in the Medium article. Some headings are more bold \n",
    "# than the output expected because of Jupyter's formatting style. "
   ]
  },
  {
   "cell_type": "markdown",
   "id": "cd530345",
   "metadata": {},
   "source": [
    "## Q2 \n",
    "\n",
    "\n",
    "### Execute a simple data pipeline that involves:\n",
    "### • Basic data validation (i.e., make sure no relevant attributes are missing) and—if needed—data cleansing (changing data types, removing entries with empty properties, etc).\n",
    "### • Partitioning the data set into a training and test set.\n",
    "### • Selection of the set of features that will be used in the learning process.\n",
    "### • Training a decision tree.\n",
    "### • Estimation of the quality of predictions by the final decision tree.\n",
    "### Execute this pipeline for different target decision tree sizes and different sizes of the set of features used for learning and prediction. For the former, you can try various numbers of nodes that are multiples of 5. For the latter, you can select 3, 6, 9, etc. that you believe should be most important for what you are trying to predict. You may find using a nested for-loop helpful in avoiding duplicated code. Compare the outcomes of your decision trees and plot a graph that displays the prediction accuracy vs the number of nodes and features used. You may want to use Seaborn or Matplotlib depending on the graph you want to display. In general, Seaborn is the more powerful graphing library and excels at spatial and complex graphs where Matplotlib provides a simpler interface to create basic graphs. It may be familiar to those of you coming from DS 110. For this assignment, we recommend using a 3D graph (i.e. different color points on a 2D graph or a spatial 3D graph) to display your data more compactly. Your code should be in separate code blocks which each output useful information."
   ]
  },
  {
   "cell_type": "code",
   "execution_count": 4,
   "id": "cc416943",
   "metadata": {},
   "outputs": [],
   "source": [
    "#Q2"
   ]
  },
  {
   "cell_type": "code",
   "execution_count": 5,
   "id": "f1521126",
   "metadata": {},
   "outputs": [],
   "source": [
    "import pandas as pd"
   ]
  },
  {
   "cell_type": "code",
   "execution_count": 6,
   "id": "03939bd3",
   "metadata": {},
   "outputs": [
    {
     "name": "stdout",
     "output_type": "stream",
     "text": [
      "    school sex  age address famsize Pstatus  Medu  Fedu      Mjob      Fjob  \\\n",
      "0       GP   F   18       U     GT3       A     4     4   at_home   teacher   \n",
      "1       GP   F   17       U     GT3       T     1     1   at_home     other   \n",
      "2       GP   F   15       U     LE3       T     1     1   at_home     other   \n",
      "3       GP   F   15       U     GT3       T     4     2    health  services   \n",
      "4       GP   F   16       U     GT3       T     3     3     other     other   \n",
      "..     ...  ..  ...     ...     ...     ...   ...   ...       ...       ...   \n",
      "390     MS   M   20       U     LE3       A     2     2  services  services   \n",
      "391     MS   M   17       U     LE3       T     3     1  services  services   \n",
      "392     MS   M   21       R     GT3       T     1     1     other     other   \n",
      "393     MS   M   18       R     LE3       T     3     2  services     other   \n",
      "394     MS   M   19       U     LE3       T     1     1     other   at_home   \n",
      "\n",
      "     ... famrel freetime  goout  Dalc  Walc health absences  G1  G2  G3  \n",
      "0    ...      4        3      4     1     1      3        6   5   6   6  \n",
      "1    ...      5        3      3     1     1      3        4   5   5   6  \n",
      "2    ...      4        3      2     2     3      3       10   7   8  10  \n",
      "3    ...      3        2      2     1     1      5        2  15  14  15  \n",
      "4    ...      4        3      2     1     2      5        4   6  10  10  \n",
      "..   ...    ...      ...    ...   ...   ...    ...      ...  ..  ..  ..  \n",
      "390  ...      5        5      4     4     5      4       11   9   9   9  \n",
      "391  ...      2        4      5     3     4      2        3  14  16  16  \n",
      "392  ...      5        5      3     3     3      3        3  10   8   7  \n",
      "393  ...      4        4      1     3     4      5        0  11  12  10  \n",
      "394  ...      3        2      3     3     3      5        5   8   9   9  \n",
      "\n",
      "[395 rows x 33 columns]\n"
     ]
    }
   ],
   "source": [
    "#loading the csv file and reading the data\n",
    "filename = 'student-mat.csv'\n",
    "data = pd.read_csv(filename, sep=';')\n",
    "print(data)"
   ]
  },
  {
   "cell_type": "code",
   "execution_count": 7,
   "id": "ce7c85af",
   "metadata": {},
   "outputs": [
    {
     "data": {
      "text/plain": [
       "school        object\n",
       "sex           object\n",
       "age            int64\n",
       "address       object\n",
       "famsize       object\n",
       "Pstatus       object\n",
       "Medu           int64\n",
       "Fedu           int64\n",
       "Mjob          object\n",
       "Fjob          object\n",
       "reason        object\n",
       "guardian      object\n",
       "traveltime     int64\n",
       "studytime      int64\n",
       "failures       int64\n",
       "schoolsup     object\n",
       "famsup        object\n",
       "paid          object\n",
       "activities    object\n",
       "nursery       object\n",
       "higher        object\n",
       "internet      object\n",
       "romantic      object\n",
       "famrel         int64\n",
       "freetime       int64\n",
       "goout          int64\n",
       "Dalc           int64\n",
       "Walc           int64\n",
       "health         int64\n",
       "absences       int64\n",
       "G1             int64\n",
       "G2             int64\n",
       "G3             int64\n",
       "dtype: object"
      ]
     },
     "execution_count": 7,
     "metadata": {},
     "output_type": "execute_result"
    }
   ],
   "source": [
    "# checking if types are as expected\n",
    "data.dtypes \n",
    "#sex, studytime, internet, health, absences"
   ]
  },
  {
   "cell_type": "code",
   "execution_count": 8,
   "id": "8c5c5149",
   "metadata": {},
   "outputs": [
    {
     "name": "stdout",
     "output_type": "stream",
     "text": [
      "     school    sex    age  address  famsize  Pstatus   Medu   Fedu   Mjob  \\\n",
      "0     False  False  False    False    False    False  False  False  False   \n",
      "1     False  False  False    False    False    False  False  False  False   \n",
      "2     False  False  False    False    False    False  False  False  False   \n",
      "3     False  False  False    False    False    False  False  False  False   \n",
      "4     False  False  False    False    False    False  False  False  False   \n",
      "..      ...    ...    ...      ...      ...      ...    ...    ...    ...   \n",
      "390   False  False  False    False    False    False  False  False  False   \n",
      "391   False  False  False    False    False    False  False  False  False   \n",
      "392   False  False  False    False    False    False  False  False  False   \n",
      "393   False  False  False    False    False    False  False  False  False   \n",
      "394   False  False  False    False    False    False  False  False  False   \n",
      "\n",
      "      Fjob  ...  famrel  freetime  goout   Dalc   Walc  health  absences  \\\n",
      "0    False  ...   False     False  False  False  False   False     False   \n",
      "1    False  ...   False     False  False  False  False   False     False   \n",
      "2    False  ...   False     False  False  False  False   False     False   \n",
      "3    False  ...   False     False  False  False  False   False     False   \n",
      "4    False  ...   False     False  False  False  False   False     False   \n",
      "..     ...  ...     ...       ...    ...    ...    ...     ...       ...   \n",
      "390  False  ...   False     False  False  False  False   False     False   \n",
      "391  False  ...   False     False  False  False  False   False     False   \n",
      "392  False  ...   False     False  False  False  False   False     False   \n",
      "393  False  ...   False     False  False  False  False   False     False   \n",
      "394  False  ...   False     False  False  False  False   False     False   \n",
      "\n",
      "        G1     G2     G3  \n",
      "0    False  False  False  \n",
      "1    False  False  False  \n",
      "2    False  False  False  \n",
      "3    False  False  False  \n",
      "4    False  False  False  \n",
      "..     ...    ...    ...  \n",
      "390  False  False  False  \n",
      "391  False  False  False  \n",
      "392  False  False  False  \n",
      "393  False  False  False  \n",
      "394  False  False  False  \n",
      "\n",
      "[395 rows x 33 columns]\n"
     ]
    }
   ],
   "source": [
    "#counting null values in data \n",
    "missing = pd.isnull(data)\n",
    "print(missing)\n",
    "for i in range(data.shape[0]):\n",
    "    isnull = False\n",
    "    for j in range(data.shape[1]):\n",
    "        isnull = isnull or pd.isnull(data.iloc[i][j])\n",
    "        if isnull == True: \n",
    "            print('row ', i, 'has null status ', isnull)"
   ]
  },
  {
   "cell_type": "code",
   "execution_count": 9,
   "id": "f9c34426",
   "metadata": {},
   "outputs": [],
   "source": [
    "#no empty or null values"
   ]
  },
  {
   "cell_type": "code",
   "execution_count": 10,
   "id": "6670f805",
   "metadata": {},
   "outputs": [
    {
     "name": "stdout",
     "output_type": "stream",
     "text": [
      "0      1\n",
      "1      0\n",
      "2      0\n",
      "3      0\n",
      "4      1\n",
      "      ..\n",
      "390    1\n",
      "391    0\n",
      "392    1\n",
      "393    0\n",
      "394    0\n",
      "Name: internet, Length: 395, dtype: int64\n",
      "0      0\n",
      "1      0\n",
      "2      0\n",
      "3      0\n",
      "4      0\n",
      "      ..\n",
      "390    0\n",
      "391    0\n",
      "392    1\n",
      "393    1\n",
      "394    0\n",
      "Name: address, Length: 395, dtype: int64\n",
      "0      0\n",
      "1      1\n",
      "2      0\n",
      "3      1\n",
      "4      1\n",
      "      ..\n",
      "390    1\n",
      "391    1\n",
      "392    1\n",
      "393    1\n",
      "394    1\n",
      "Name: schoolsup, Length: 395, dtype: int64\n",
      "0      1\n",
      "1      1\n",
      "2      1\n",
      "3      0\n",
      "4      1\n",
      "      ..\n",
      "390    1\n",
      "391    1\n",
      "392    1\n",
      "393    1\n",
      "394    1\n",
      "Name: activities, Length: 395, dtype: int64\n"
     ]
    }
   ],
   "source": [
    "#change internet values to 0 for yes and 1 for no\n",
    "data[\"internet\"] = data[\"internet\"].apply(lambda x:0 if x == 'yes' else 1)\n",
    "print(data[\"internet\"])\n",
    "\n",
    "#change address to values 0 for urban and 1 for rural\n",
    "data[\"address\"] = data[\"address\"].apply(lambda x:0 if x=='U' else 1)\n",
    "print(data[\"address\"])\n",
    "\n",
    "#change schoolsup to values 0 for yes and 1 for no\n",
    "data[\"schoolsup\"] = data[\"schoolsup\"].apply(lambda x:0 if x == 'yes' else 1)\n",
    "print(data[\"schoolsup\"])\n",
    "\n",
    "#change activities to values 0 for yes and 1 for no\n",
    "data[\"activities\"] = data[\"activities\"].apply(lambda x:0 if x == 'yes' else 1)\n",
    "print(data[\"activities\"])"
   ]
  },
  {
   "cell_type": "code",
   "execution_count": 11,
   "id": "5e374930",
   "metadata": {},
   "outputs": [],
   "source": [
    "#selecting set of variables for training data \n",
    "#new coloumns = [\"sex\",\"studytime\",\"address\",\"schoolsup\",\"activities\",\"internet\", \"health\", \"absences\",\"G3\"]\n",
    "#selected_data = data[new_coloumns]\n",
    "#print(selected_data)"
   ]
  },
  {
   "cell_type": "code",
   "execution_count": 12,
   "id": "8bd05b04",
   "metadata": {},
   "outputs": [],
   "source": [
    "# split the data set and selecting features used for training\n",
    "from sklearn.datasets import load_iris\n",
    "from sklearn.model_selection import train_test_split\n",
    "from sklearn import tree\n",
    "#\"address\" [[\"studytime\",\"schoolsup\",\"activities\",\"internet\", \"health\", \"absences\"]]\n",
    "x= data[[\"studytime\",\"schoolsup\",\"activities\",\"internet\", \"health\", \"absences\"]]\n",
    "y = data[\"G3\"]\n",
    "X_train,X_test,y_train,y_test = train_test_split(x,y)"
   ]
  },
  {
   "cell_type": "code",
   "execution_count": 13,
   "id": "880d8df1",
   "metadata": {},
   "outputs": [],
   "source": [
    "#train decision tree\n",
    "clf = tree.DecisionTreeClassifier(max_leaf_nodes=5)\n",
    "clf = clf.fit(X_train,y_train)"
   ]
  },
  {
   "cell_type": "code",
   "execution_count": 14,
   "id": "15f99bdf",
   "metadata": {},
   "outputs": [
    {
     "name": "stdout",
     "output_type": "stream",
     "text": [
      "0.2222222222222222\n"
     ]
    }
   ],
   "source": [
    "# prediction accuracy\n",
    "prediction = clf.predict(X_test)\n",
    "correct = 0\n",
    "y_test = y_test.reset_index(drop=True) #resets the range of y_test to begin from 0, used to fix key error = 0 issue\n",
    "for i in range(len(y_test)):\n",
    "    if prediction[i] == y_test[i]:\n",
    "        correct += 1\n",
    "print(correct / len(y_test))\n"
   ]
  },
  {
   "cell_type": "code",
   "execution_count": 15,
   "id": "b27d42b8",
   "metadata": {},
   "outputs": [
    {
     "name": "stdout",
     "output_type": "stream",
     "text": [
      "Scenario 1:\n",
      "Max Leaf Nodes: 5, Accuracy: 0.12121212121212122\n",
      "Max Leaf Nodes: 10, Accuracy: 0.1111111111111111\n",
      "Max Leaf Nodes: 15, Accuracy: 0.08080808080808081\n",
      "Max Leaf Nodes: 20, Accuracy: 0.10101010101010101\n",
      "Max Leaf Nodes: 25, Accuracy: 0.09090909090909091\n",
      "Max Leaf Nodes: 30, Accuracy: 0.08080808080808081\n",
      "Max Leaf Nodes: 35, Accuracy: 0.08080808080808081\n",
      "Max Leaf Nodes: 40, Accuracy: 0.10101010101010101\n",
      "Max Leaf Nodes: 45, Accuracy: 0.08080808080808081\n",
      "Max Leaf Nodes: 50, Accuracy: 0.08080808080808081\n",
      "Max Leaf Nodes: 55, Accuracy: 0.09090909090909091\n",
      "Max Leaf Nodes: 60, Accuracy: 0.08080808080808081\n",
      "Max Leaf Nodes: 65, Accuracy: 0.10101010101010101\n",
      "Max Leaf Nodes: 70, Accuracy: 0.09090909090909091\n",
      "Max Leaf Nodes: 75, Accuracy: 0.08080808080808081\n",
      "Max Leaf Nodes: 80, Accuracy: 0.09090909090909091\n",
      "Max Leaf Nodes: 85, Accuracy: 0.10101010101010101\n",
      "Max Leaf Nodes: 90, Accuracy: 0.09090909090909091\n",
      "Max Leaf Nodes: 95, Accuracy: 0.10101010101010101\n"
     ]
    }
   ],
   "source": [
    "#prediction accuracy for nodes with values that are multiple of 5 \n",
    "x1 = data[[\"studytime\", \"schoolsup\", \"activities\", \"internet\", \"health\", \"absences\"]]\n",
    "y1 = data[\"G3\"]\n",
    "X_train1, X_test1, y_train1, y_test1 = train_test_split(x1, y1)\n",
    "I= []\n",
    "Correct=[]\n",
    "print(\"Scenario 1:\")\n",
    "for i in range(5, 100, 5):\n",
    "    clf = tree.DecisionTreeClassifier(max_leaf_nodes=i)\n",
    "    clf = clf.fit(X_train1, y_train1)\n",
    "    prediction = clf.predict(X_test1)\n",
    "    correct = 0\n",
    "    y_test1 = y_test1.reset_index(drop=True)\n",
    "    for j in range(len(y_test1)):\n",
    "        if prediction[j] == y_test1[j]:\n",
    "            correct += 1\n",
    "    print(f\"Max Leaf Nodes: {i}, Accuracy: {correct / len(y_test1)}\")\n",
    "    I.append(i)\n",
    "    Correct.append({correct / len(y_test1)})"
   ]
  },
  {
   "cell_type": "code",
   "execution_count": 16,
   "id": "b544ff52",
   "metadata": {},
   "outputs": [],
   "source": [
    "#the values show that the data is not very accurately predicting \n",
    "#values based on the selected features. To overcome this, running \n",
    "#three different of features and multiple nodes to predict data "
   ]
  },
  {
   "cell_type": "code",
   "execution_count": 17,
   "id": "0849308e",
   "metadata": {},
   "outputs": [
    {
     "name": "stdout",
     "output_type": "stream",
     "text": [
      "\n",
      "Scenario 2:\n",
      "Max Leaf Nodes: 3, Accuracy: 0.16161616161616163\n",
      "Max Leaf Nodes: 6, Accuracy: 0.15151515151515152\n",
      "Max Leaf Nodes: 9, Accuracy: 0.1717171717171717\n",
      "Max Leaf Nodes: 12, Accuracy: 0.16161616161616163\n",
      "Max Leaf Nodes: 15, Accuracy: 0.16161616161616163\n",
      "Max Leaf Nodes: 18, Accuracy: 0.16161616161616163\n",
      "Max Leaf Nodes: 21, Accuracy: 0.16161616161616163\n",
      "Max Leaf Nodes: 24, Accuracy: 0.16161616161616163\n",
      "Max Leaf Nodes: 27, Accuracy: 0.16161616161616163\n"
     ]
    }
   ],
   "source": [
    "x2= data[[\"studytime\",\"internet\",\"absences\"]]\n",
    "y2 = data[\"G3\"]\n",
    "X_train2,X_test2,y_train2,y_test2 = train_test_split(x2,y2)\n",
    "print(\"\\nScenario 2:\")\n",
    "for i in range(3, 30, 3):\n",
    "    clf = tree.DecisionTreeClassifier(max_leaf_nodes=i)\n",
    "    clf = clf.fit(X_train2, y_train2)\n",
    "    prediction = clf.predict(X_test2)\n",
    "    correct = 0\n",
    "    y_test2 = y_test2.reset_index(drop=True)\n",
    "    for j in range(len(y_test2)):\n",
    "        if prediction[j] == y_test2[j]:\n",
    "            correct += 1\n",
    "    print(f\"Max Leaf Nodes: {i}, Accuracy: {correct / len(y_test2)}\")\n"
   ]
  },
  {
   "cell_type": "code",
   "execution_count": 18,
   "id": "7dd4b207",
   "metadata": {},
   "outputs": [
    {
     "name": "stdout",
     "output_type": "stream",
     "text": [
      "\n",
      "Scenario 2:\n",
      "Max Leaf Nodes: 98, Accuracy: 0.16161616161616163\n",
      "Max Leaf Nodes: 98, Accuracy: 0.1111111111111111\n",
      "Max Leaf Nodes: 98, Accuracy: 0.12121212121212122\n",
      "Max Leaf Nodes: 98, Accuracy: 0.16161616161616163\n",
      "Max Leaf Nodes: 98, Accuracy: 0.16161616161616163\n",
      "Max Leaf Nodes: 98, Accuracy: 0.16161616161616163\n",
      "Max Leaf Nodes: 98, Accuracy: 0.16161616161616163\n",
      "Max Leaf Nodes: 98, Accuracy: 0.15151515151515152\n",
      "Max Leaf Nodes: 98, Accuracy: 0.1111111111111111\n"
     ]
    }
   ],
   "source": [
    "x3= data[[\"Medu\",\"Fedu\",\"address\",\"health\",\"traveltime\",\"age\",\"internet\",\"failures\"]]\n",
    "y3 = data[\"G3\"]\n",
    "X_train3,X_test3,y_train3,y_test3 = train_test_split(x3,y3)\n",
    "print(\"\\nScenario 2:\")\n",
    "for i in range(3,30,3): \n",
    "    clf = tree.DecisionTreeClassifier(max_leaf_nodes=i)\n",
    "    clf = clf.fit(X_train3,y_train3)\n",
    "    prediction = clf.predict(X_test3)\n",
    "    correct = 0\n",
    "    y_test3 = y_test3.reset_index(drop=True) #resets the range of y_test to begin from 0, used to fix key error = 0 issue\n",
    "    for i in range(len(y_test)):\n",
    "            if prediction[i] == y_test3[i]:\n",
    "                correct += 1\n",
    "    print(f\"Max Leaf Nodes: {i}, Accuracy: {correct / len(y_test3)}\")"
   ]
  },
  {
   "cell_type": "code",
   "execution_count": 19,
   "id": "aa1181cf",
   "metadata": {},
   "outputs": [
    {
     "ename": "NameError",
     "evalue": "name 'plt' is not defined",
     "output_type": "error",
     "traceback": [
      "\u001b[0;31m---------------------------------------------------------------------------\u001b[0m",
      "\u001b[0;31mNameError\u001b[0m                                 Traceback (most recent call last)",
      "Cell \u001b[0;32mIn[19], line 1\u001b[0m\n\u001b[0;32m----> 1\u001b[0m \u001b[43mplt\u001b[49m\u001b[38;5;241m.\u001b[39mfigure()\n\u001b[1;32m      2\u001b[0m plt\u001b[38;5;241m.\u001b[39mscatter(x, y, s\u001b[38;5;241m=\u001b[39m\u001b[38;5;241m20\u001b[39m, edgecolor\u001b[38;5;241m=\u001b[39m\u001b[38;5;124m\"\u001b[39m\u001b[38;5;124mblack\u001b[39m\u001b[38;5;124m\"\u001b[39m, c\u001b[38;5;241m=\u001b[39m\u001b[38;5;124m\"\u001b[39m\u001b[38;5;124mdarkorange\u001b[39m\u001b[38;5;124m\"\u001b[39m, label\u001b[38;5;241m=\u001b[39m\u001b[38;5;124m\"\u001b[39m\u001b[38;5;124mdata\u001b[39m\u001b[38;5;124m\"\u001b[39m)\n\u001b[1;32m      3\u001b[0m plt\u001b[38;5;241m.\u001b[39mplot(X_test, y_1, color\u001b[38;5;241m=\u001b[39m\u001b[38;5;124m\"\u001b[39m\u001b[38;5;124mcornflowerblue\u001b[39m\u001b[38;5;124m\"\u001b[39m, label\u001b[38;5;241m=\u001b[39m\u001b[38;5;124m\"\u001b[39m\u001b[38;5;124mmax_depth=2\u001b[39m\u001b[38;5;124m\"\u001b[39m, linewidth\u001b[38;5;241m=\u001b[39m\u001b[38;5;241m2\u001b[39m)\n",
      "\u001b[0;31mNameError\u001b[0m: name 'plt' is not defined"
     ]
    }
   ],
   "source": [
    "plt.figure()\n",
    "plt.scatter(x, y, s=20, edgecolor=\"black\", c=\"darkorange\", label=\"data\")\n",
    "plt.plot(X_test, y_1, color=\"cornflowerblue\", label=\"max_depth=2\", linewidth=2)\n",
    "plt.plot(X_test, y_2, color=\"yellowgreen\", label=\"max_depth=5\", linewidth=2)\n",
    "plt.xlabel(\"data\")\n",
    "plt.ylabel(\"target\")\n",
    "plt.title(\"Decision Tree Regression\")\n",
    "plt.legend()\n",
    "plt.show()"
   ]
  },
  {
   "cell_type": "code",
   "execution_count": null,
   "id": "213ad777",
   "metadata": {},
   "outputs": [],
   "source": []
  },
  {
   "cell_type": "code",
   "execution_count": null,
   "id": "96e0b538",
   "metadata": {},
   "outputs": [],
   "source": []
  }
 ],
 "metadata": {
  "kernelspec": {
   "display_name": "Python 3 (ipykernel)",
   "language": "python",
   "name": "python3"
  },
  "language_info": {
   "codemirror_mode": {
    "name": "ipython",
    "version": 3
   },
   "file_extension": ".py",
   "mimetype": "text/x-python",
   "name": "python",
   "nbconvert_exporter": "python",
   "pygments_lexer": "ipython3",
   "version": "3.10.9"
  }
 },
 "nbformat": 4,
 "nbformat_minor": 5
}
