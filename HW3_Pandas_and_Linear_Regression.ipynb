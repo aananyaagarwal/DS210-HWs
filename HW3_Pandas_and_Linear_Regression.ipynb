{
 "cells": [
  {
   "cell_type": "markdown",
   "id": "2ea7d28a",
   "metadata": {},
   "source": [
    "# HW 3 "
   ]
  },
  {
   "cell_type": "markdown",
   "id": "2fe0b612",
   "metadata": {},
   "source": [
    "## Q1 \n",
    "\n",
    "(a) Find out how to sample `t` elements from a pandas dataframe of `k ≥ t` elements without\n",
    "replacement (i.e., a name cannot appear twice on the resulting list). Give an example.\n",
    "Hint: You can use `random.sample` or `numpy.random.choice`. You can also write a\n",
    "function for this yourself from scratch.\n",
    "\n",
    "(b) Create an arbitrary list of 18 different names of cars. (It can be as simple as “A”, “B”, . .\n",
    ". , “R”, but you are invited to be more creative. It could, for instance, start from “Fiat\n",
    "500” and “Ferrari Testarossa”.) Then create two data frames, with 10 rows each, as\n",
    "follows.\n",
    "• The first one—say, `df1`—should have two labeled columns: `Name` and `MPG` (i.e.,\n",
    "miles per gallon). The names should be selected at random from the list of names\n",
    "without replacement. The values in the other column should be independent\n",
    "random real numbers from 5 to 50.\n",
    "• The second one—say, `df2`—should have two labeled columns: `Name` and\n",
    "`SecondsTo60` (i.e., time needed to reach 60 mph). Names should be selected in\n",
    "the same way as in `df1`, but independently of the selection in `df1`. The values in\n",
    "the other column should be independent random real numbers from 1 to 20.\n",
    "\n",
    "(c) Combine `df1` and `df2` to create a new data frame, `df`, with three columns: `Name`, `MPG`,\n",
    "and `SecondsTo60`. The resulting data frame should have at most one row for each car.\n",
    "A car should appear in `df` if and only if it appears in at least one of `df1` and `df2`. If the\n",
    "value of `MPG` or `SecondsTo60` for a given car appears in `df1` or `df2`, respectively, then\n",
    "it should be included in the new data frame. Otherwise, use `NaN`.\n",
    "\n",
    "(d) Fix all occurrences of `NaN` in `df`. First, replace all `NaN`s in the `MPG` column with the\n",
    "mean of values in this column for all cars. Second, replace all `NaN`s in the\n",
    "`SecondsTo60` column by the maximum of values in this column for all cars.\n",
    "\n",
    "(e) Add “Awesome ” as a prefix to the name of each car in `df`.\n",
    "\n",
    "(f) Create a new data frame, `df_eco`, from `df` by selecting rows for which `MPG` is strictly\n",
    "greater than the median of values for all cars.\n"
   ]
  },
  {
   "cell_type": "markdown",
   "id": "757d91be",
   "metadata": {},
   "source": [
    "### (a) "
   ]
  },
  {
   "cell_type": "code",
   "execution_count": 29,
   "id": "434d2525",
   "metadata": {},
   "outputs": [],
   "source": [
    "import numpy as np\n",
    "import pandas as pd\n",
    "import random"
   ]
  },
  {
   "cell_type": "code",
   "execution_count": 30,
   "id": "1205a934",
   "metadata": {},
   "outputs": [
    {
     "name": "stdout",
     "output_type": "stream",
     "text": [
      "0      0.232443\n",
      "1     -1.436376\n",
      "2     -0.173053\n",
      "3     -2.416748\n",
      "4     -0.160202\n",
      "         ...   \n",
      "995    0.304406\n",
      "996    0.383616\n",
      "997   -2.387512\n",
      "998   -0.920363\n",
      "999    0.650125\n",
      "Length: 1000, dtype: float64\n"
     ]
    }
   ],
   "source": [
    "data = pd.Series(np.random.randn(1000))\n",
    "\n",
    "print(data)"
   ]
  },
  {
   "cell_type": "code",
   "execution_count": 31,
   "id": "ff4f46db",
   "metadata": {},
   "outputs": [
    {
     "name": "stdout",
     "output_type": "stream",
     "text": [
      "0    0.232443\n",
      "1   -1.436376\n",
      "2   -0.173053\n",
      "3   -2.416748\n",
      "4   -0.160202\n",
      "5   -0.516237\n",
      "6    0.200209\n",
      "7    1.095155\n",
      "8    0.051996\n",
      "9   -1.083633\n",
      "dtype: float64\n"
     ]
    }
   ],
   "source": [
    "print(data.head(10))"
   ]
  },
  {
   "cell_type": "markdown",
   "id": "938b5dc6",
   "metadata": {},
   "source": [
    "### b) "
   ]
  },
  {
   "cell_type": "code",
   "execution_count": 32,
   "id": "08044e15",
   "metadata": {},
   "outputs": [
    {
     "name": "stdout",
     "output_type": "stream",
     "text": [
      "                    Name  MPG\n",
      "0            Honda Civic   27\n",
      "1               Lexus RX   45\n",
      "2     Chevrolet Corvette    5\n",
      "3          Jeep Wrangler   15\n",
      "4          Tesla Model S   12\n",
      "5             Volvo XC90   19\n",
      "6  Mercedes-Benz E-Class    6\n",
      "7           Toyota Camry   49\n",
      "8          Nissan Altima   36\n",
      "9           Ford Mustang   48\n"
     ]
    }
   ],
   "source": [
    "cars = ('Toyota Camry', 'Honda Civic', 'Ford Mustang', 'Chevrolet Corvette','BMW 3 Series',\n",
    "         'Mercedes-Benz E-Class', 'Audi A4', 'Volkswagen Golf','Tesla Model S', 'Hyundai Sonata', \n",
    "          'Kia Soul', 'Subaru Outback','Nissan Altima', 'Jeep Wrangler', 'Lexus RX', 'Mazda CX-5',\n",
    "           'Volvo XC90', 'Porsche 911')\n",
    "mpg = range(5,51)\n",
    "\n",
    "df1 = pd.DataFrame(\n",
    "  {\n",
    "                'Name': random.sample(cars,10),\n",
    "                'MPG': random.sample(mpg, 10)\n",
    "        \n",
    "    })\n",
    "print(df1)"
   ]
  },
  {
   "cell_type": "code",
   "execution_count": 33,
   "id": "7aa1ddd6",
   "metadata": {},
   "outputs": [
    {
     "name": "stdout",
     "output_type": "stream",
     "text": [
      "                    Name  SecondsTo60\n",
      "0            Porsche 911           19\n",
      "1          Tesla Model S            7\n",
      "2           BMW 3 Series           17\n",
      "3         Hyundai Sonata           11\n",
      "4             Mazda CX-5           13\n",
      "5        Volkswagen Golf           18\n",
      "6                Audi A4            9\n",
      "7          Jeep Wrangler            4\n",
      "8             Volvo XC90            5\n",
      "9  Mercedes-Benz E-Class            2\n"
     ]
    }
   ],
   "source": [
    "stg = range(1,21) #selecting 10 random values from this range \n",
    "df2 = pd.DataFrame(\n",
    "    {\n",
    "                   'Name': random.sample(cars,10),\n",
    "                   'SecondsTo60': random.sample(stg, 10)\n",
    "           })\n",
    "print(df2)\n"
   ]
  },
  {
   "cell_type": "markdown",
   "id": "54fdc0c0",
   "metadata": {},
   "source": [
    "### c)"
   ]
  },
  {
   "cell_type": "code",
   "execution_count": 34,
   "id": "c3dcbe56",
   "metadata": {},
   "outputs": [
    {
     "name": "stdout",
     "output_type": "stream",
     "text": [
      "                     Name   MPG  SecondsTo60\n",
      "0             Honda Civic  27.0          NaN\n",
      "1                Lexus RX  45.0          NaN\n",
      "2      Chevrolet Corvette   5.0          NaN\n",
      "3           Jeep Wrangler  15.0          4.0\n",
      "4           Tesla Model S  12.0          7.0\n",
      "5              Volvo XC90  19.0          5.0\n",
      "6   Mercedes-Benz E-Class   6.0          2.0\n",
      "7            Toyota Camry  49.0          NaN\n",
      "8           Nissan Altima  36.0          NaN\n",
      "9            Ford Mustang  48.0          NaN\n",
      "10            Porsche 911   NaN         19.0\n",
      "11           BMW 3 Series   NaN         17.0\n",
      "12         Hyundai Sonata   NaN         11.0\n",
      "13             Mazda CX-5   NaN         13.0\n",
      "14        Volkswagen Golf   NaN         18.0\n",
      "15                Audi A4   NaN          9.0\n"
     ]
    }
   ],
   "source": [
    "df = pd.merge(df1, df2, how = 'outer', on = 'Name') #to merge the coloumns based on name of the car \n",
    "print(df)"
   ]
  },
  {
   "cell_type": "markdown",
   "id": "b9229436",
   "metadata": {},
   "source": [
    "### d)"
   ]
  },
  {
   "cell_type": "code",
   "execution_count": 35,
   "id": "859da54f",
   "metadata": {},
   "outputs": [
    {
     "name": "stdout",
     "output_type": "stream",
     "text": [
      "Mean of MPG is 26.2\n",
      "Max Value of SecondsToGo is 19.0\n",
      "                     Name   MPG  SecondsTo60\n",
      "0             Honda Civic  27.0         19.0\n",
      "1                Lexus RX  45.0         19.0\n",
      "2      Chevrolet Corvette   5.0         19.0\n",
      "3           Jeep Wrangler  15.0          4.0\n",
      "4           Tesla Model S  12.0          7.0\n",
      "5              Volvo XC90  19.0          5.0\n",
      "6   Mercedes-Benz E-Class   6.0          2.0\n",
      "7            Toyota Camry  49.0         19.0\n",
      "8           Nissan Altima  36.0         19.0\n",
      "9            Ford Mustang  48.0         19.0\n",
      "10            Porsche 911  26.2         19.0\n",
      "11           BMW 3 Series  26.2         17.0\n",
      "12         Hyundai Sonata  26.2         11.0\n",
      "13             Mazda CX-5  26.2         13.0\n",
      "14        Volkswagen Golf  26.2         18.0\n",
      "15                Audi A4  26.2          9.0\n"
     ]
    }
   ],
   "source": [
    "# finding the required valiues and then swapping thme with NaN using fillna function \n",
    "\n",
    "mean_MPG = np.mean(df[\"MPG\"])\n",
    "print(f\"Mean of MPG is {mean_MPG}\")\n",
    "\n",
    "max_sec = np.max(df[\"SecondsTo60\"])\n",
    "print(f\"Max Value of SecondsToGo is {max_sec}\")\n",
    "\n",
    "df[\"MPG\"] = df[\"MPG\"].fillna(value = mean_MPG)\n",
    "df[\"SecondsTo60\"] = df[\"SecondsTo60\"].fillna(value = max_sec)\n",
    "print(df)"
   ]
  },
  {
   "cell_type": "markdown",
   "id": "2828289c",
   "metadata": {},
   "source": [
    "### f)"
   ]
  },
  {
   "cell_type": "code",
   "execution_count": 36,
   "id": "877b3f65",
   "metadata": {},
   "outputs": [
    {
     "name": "stdout",
     "output_type": "stream",
     "text": [
      "                             Name   MPG  SecondsTo60\n",
      "0             Awesome Honda Civic  27.0         19.0\n",
      "1                Awesome Lexus RX  45.0         19.0\n",
      "2      Awesome Chevrolet Corvette   5.0         19.0\n",
      "3           Awesome Jeep Wrangler  15.0          4.0\n",
      "4           Awesome Tesla Model S  12.0          7.0\n",
      "5              Awesome Volvo XC90  19.0          5.0\n",
      "6   Awesome Mercedes-Benz E-Class   6.0          2.0\n",
      "7            Awesome Toyota Camry  49.0         19.0\n",
      "8           Awesome Nissan Altima  36.0         19.0\n",
      "9            Awesome Ford Mustang  48.0         19.0\n",
      "10            Awesome Porsche 911  26.2         19.0\n",
      "11           Awesome BMW 3 Series  26.2         17.0\n",
      "12         Awesome Hyundai Sonata  26.2         11.0\n",
      "13             Awesome Mazda CX-5  26.2         13.0\n",
      "14        Awesome Volkswagen Golf  26.2         18.0\n",
      "15                Awesome Audi A4  26.2          9.0\n"
     ]
    }
   ],
   "source": [
    "#check this \n",
    "df[\"Name\"] = df[\"Name\"].apply(lambda x: 'Awesome' +' '+ x)\n",
    "print(df)"
   ]
  },
  {
   "cell_type": "markdown",
   "id": "f2b6ba52",
   "metadata": {},
   "source": [
    "### e)"
   ]
  },
  {
   "cell_type": "code",
   "execution_count": 37,
   "id": "aca29b10",
   "metadata": {},
   "outputs": [
    {
     "name": "stdout",
     "output_type": "stream",
     "text": [
      "                       Name   MPG  SecondsTo60\n",
      "0       Awesome Honda Civic  27.0         19.0\n",
      "1          Awesome Lexus RX  45.0         19.0\n",
      "7      Awesome Toyota Camry  49.0         19.0\n",
      "8     Awesome Nissan Altima  36.0         19.0\n",
      "9      Awesome Ford Mustang  48.0         19.0\n",
      "10      Awesome Porsche 911  26.2         19.0\n",
      "11     Awesome BMW 3 Series  26.2         17.0\n",
      "12   Awesome Hyundai Sonata  26.2         11.0\n",
      "13       Awesome Mazda CX-5  26.2         13.0\n",
      "14  Awesome Volkswagen Golf  26.2         18.0\n",
      "15          Awesome Audi A4  26.2          9.0\n"
     ]
    }
   ],
   "source": [
    "df_eco = df[df[\"MPG\"] >= np.median(df[\"MPG\"])]\n",
    "print(df_eco)"
   ]
  },
  {
   "cell_type": "markdown",
   "id": "b4cc8688",
   "metadata": {},
   "source": [
    "## Q2"
   ]
  },
  {
   "cell_type": "markdown",
   "id": "0bc5940c",
   "metadata": {},
   "source": [
    "In this question you will work with the same data set as in Homework 1. We\n",
    "want to explore how useful k–means clustering could be for predicting the same values or\n",
    "labels as last time.\n",
    "\n",
    "(a) Select a subset of attributes that you think may be relevant to the value being\n",
    "predicted (similarly to the last homework). It suffices to consider one subset of\n",
    "attributes. You don’t have to try subsets of different sizes (but if you want you can).\n",
    "\n",
    "(b) Split your data into the training and test set in the same way as in homework 1.\n",
    "\n",
    "(c) As opposed to decision trees, it is now important to decide how much weight is\n",
    "assigned to each attribute. For instance, you can rescale each of them so that the\n",
    "variance of each attribute in the training set is similar. Whatever you do, make sure\n",
    "that no single attribute dominates all other attributes and is the sole basis for\n",
    "clustering. You might find the MinMaxScaler or Whiten functions helpful.\n",
    "\n",
    "(d) Compute a k–means clustering of points in the training set for different values of k.\n",
    "(For instance, k = 1 . . . 20. Select a range that makes sense for your data set.)\n",
    "\n",
    "(e) For each considered k, explore how helpful the clustering you get is for the\n",
    "classification or regression question you considered last time. To be more precise you\n",
    "will still try to predict the students grade by using the way students are clusters. You\n",
    "will have to write separate code to compute what grade should be associated with\n",
    "each cluster. For each cluster you should decide that the grade associated with it will\n",
    "be:\n",
    "• the mean of values for students in the training set assigned to this cluster, if you\n",
    "are doing regression,\n",
    "• the most popular label for points in the training set assigned to this cluster, if you\n",
    "are doing classification.\n",
    "Once you have determined the grade associated with each cluster, you should check\n",
    "each point in the test set, see to which cluster it gets assigned and make the prediction\n",
    "for this point to be the grade associated with that cluster. You should then use the same\n",
    "accuracy measure you used last time to see how accurate your resulting predictions are.\n",
    "Plot a graph that displays the relationship between accuracy and k, the number of\n",
    "clusters.\n",
    "\n",
    "(f) How does the accuracy of predictions you obtain this time compare to the accuracy of\n",
    "decision tree based predictions last time?\n",
    "\n",
    "(g) Did you gain any new insights into the data set? Did the results surprise you in any\n",
    "way? Any other interesting thoughts?\n"
   ]
  },
  {
   "cell_type": "markdown",
   "id": "ee7b1060",
   "metadata": {},
   "source": [
    "### a)"
   ]
  },
  {
   "cell_type": "code",
   "execution_count": 38,
   "id": "a527d241",
   "metadata": {},
   "outputs": [],
   "source": [
    "import pandas as pd\n",
    "ingredients = pd.read_csv('ingredients.csv')\n",
    "ingredients\n",
    "ingredients_values= (ingredients.iloc[0]['Yeast'],ingredients.iloc[0]['Flour'],ingredients.iloc[0]['Sugar'])"
   ]
  },
  {
   "cell_type": "markdown",
   "id": "139fee46",
   "metadata": {},
   "source": [
    "### b)"
   ]
  },
  {
   "cell_type": "code",
   "execution_count": 39,
   "id": "4d6028c6",
   "metadata": {},
   "outputs": [],
   "source": [
    "pastries = pd.read_csv('pastries.csv')\n",
    "pastries \n",
    "pastries_values = [pastries['Yeast'].tolist(),pastries['Flour'].tolist(),pastries['Sugar'].tolist()]"
   ]
  },
  {
   "cell_type": "markdown",
   "id": "cec66f8b",
   "metadata": {},
   "source": [
    "### c)"
   ]
  },
  {
   "cell_type": "code",
   "execution_count": 40,
   "id": "a56df872",
   "metadata": {},
   "outputs": [
    {
     "name": "stdout",
     "output_type": "stream",
     "text": [
      "The max profit is 449.0 and this is achieved by producing:\n",
      "Apple pie: 50.00000000000001\n",
      "Croissant: 0.0\n",
      "Poppy Seed Roll: 50.0\n"
     ]
    }
   ],
   "source": [
    "from scipy.optimize import linprog\n",
    "\n",
    "cost_pastry = -pastries['Price'].ravel()\n",
    "bounds = [(0,None) for i in range(3)]\n",
    "result_total = linprog(cost_pastry,A_ub = pastries_values,b_ub = ingredients_values,bounds = bounds)\n",
    "result_total\n",
    "\n",
    "print('The max profit is', -result_total.fun, 'and this is achieved by producing:')\n",
    "print('Apple pie:', result_total.x[0])\n",
    "print ('Croissant:', result_total.x[1])\n",
    "print('Poppy Seed Roll:', result_total.x[2])"
   ]
  },
  {
   "cell_type": "markdown",
   "id": "d6deccf3",
   "metadata": {},
   "source": [
    "### The approach I utilized to boost the company's sales leverages the scipy linprog package, which was introduced to us in lectures. The A_ub constraint represents the necessary quantity of each ingredient for different pastries, while B_ub defines the available quantity of each ingredient. The objective is to minimize the objective function, c. However, to align with our goal of maximizing sales, I modified c to represent negative values corresponding to pastry prices. By inputting these three parameters into the linprog package, it effectively optimized profits within the specified constraints."
   ]
  },
  {
   "cell_type": "code",
   "execution_count": null,
   "id": "e4357f45",
   "metadata": {},
   "outputs": [],
   "source": []
  }
 ],
 "metadata": {
  "kernelspec": {
   "display_name": "Python 3 (ipykernel)",
   "language": "python",
   "name": "python3"
  },
  "language_info": {
   "codemirror_mode": {
    "name": "ipython",
    "version": 3
   },
   "file_extension": ".py",
   "mimetype": "text/x-python",
   "name": "python",
   "nbconvert_exporter": "python",
   "pygments_lexer": "ipython3",
   "version": "3.10.9"
  }
 },
 "nbformat": 4,
 "nbformat_minor": 5
}
